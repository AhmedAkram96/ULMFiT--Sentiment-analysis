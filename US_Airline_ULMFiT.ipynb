{
  "nbformat": 4,
  "nbformat_minor": 0,
  "metadata": {
    "colab": {
      "name": "US-Airline: ULMFiT.ipynb",
      "provenance": [],
      "collapsed_sections": [],
      "toc_visible": true
    },
    "kernelspec": {
      "name": "python3",
      "display_name": "Python 3"
    }
  },
  "cells": [
    {
      "cell_type": "markdown",
      "metadata": {
        "id": "ixYPHGXbwSck",
        "colab_type": "text"
      },
      "source": [
        "# US-Airlines Dataset\n",
        "\n",
        "\n",
        "\n",
        "This Jupyter notebook includes Dataset collected from the tweets of passengers about their flights with an American airline.\n",
        "\n",
        "### So, in this notebook our aim is to predict these tweets sentiment, whether it's Positive, Negative or Neutral.\n",
        "\n"
      ]
    },
    {
      "cell_type": "code",
      "metadata": {
        "id": "PLueHJFkz4-d",
        "colab_type": "code",
        "colab": {}
      },
      "source": [
        "from tqdm import tqdm_notebook\n",
        "import torch\n",
        "import fastai\n",
        "from fastai.text import *\n",
        "fastai.__version__\n",
        "%matplotlib inline\n",
        "import pandas as pd\n",
        "import numpy as np\n",
        "import warnings\n",
        "import matplotlib.pyplot as plt\n",
        "warnings.filterwarnings('ignore')"
      ],
      "execution_count": 0,
      "outputs": []
    },
    {
      "cell_type": "markdown",
      "metadata": {
        "id": "bI0l8mgyyZ42",
        "colab_type": "text"
      },
      "source": [
        "# 1. Data Engineering\n",
        "\n",
        " At first, We start by fetching and inspecting the dataset"
      ]
    },
    {
      "cell_type": "code",
      "metadata": {
        "id": "yoirdLeOjuev",
        "colab_type": "code",
        "colab": {}
      },
      "source": [
        "tweets = pd.read_csv(\"Tweets.csv\")\n"
      ],
      "execution_count": 0,
      "outputs": []
    },
    {
      "cell_type": "markdown",
      "metadata": {
        "id": "Qf025X0kyku3",
        "colab_type": "text"
      },
      "source": [
        "<b>We investigate our dataset important attributes, In our case It's the Text attribute as Data and the Sentiment attribute as the label</b>\n",
        "\n",
        "Start with the Target"
      ]
    },
    {
      "cell_type": "code",
      "metadata": {
        "id": "92MIj38OjHgK",
        "colab_type": "code",
        "outputId": "3d6957b7-81d8-46db-8861-8a93745100e5",
        "colab": {
          "base_uri": "https://localhost:8080/",
          "height": 86
        }
      },
      "source": [
        "count = tweets.airline_sentiment.value_counts()\n",
        "print(count)"
      ],
      "execution_count": 18,
      "outputs": [
        {
          "output_type": "stream",
          "text": [
            "negative    9178\n",
            "neutral     3099\n",
            "positive    2363\n",
            "Name: airline_sentiment, dtype: int64\n"
          ],
          "name": "stdout"
        }
      ]
    },
    {
      "cell_type": "markdown",
      "metadata": {
        "id": "taFTDwHkyrou",
        "colab_type": "text"
      },
      "source": [
        "Then, We remove all the duplicates\n"
      ]
    },
    {
      "cell_type": "code",
      "metadata": {
        "id": "d8blrf_VjH_C",
        "colab_type": "code",
        "colab": {}
      },
      "source": [
        "tweets = tweets.drop_duplicates(keep='first',subset='tweet_id')\n"
      ],
      "execution_count": 0,
      "outputs": []
    },
    {
      "cell_type": "code",
      "metadata": {
        "id": "ES305CA4jIVk",
        "colab_type": "code",
        "outputId": "e0bdf9f0-2ed5-4eaf-98bc-19f1a0a4b6cd",
        "colab": {
          "base_uri": "https://localhost:8080/",
          "height": 86
        }
      },
      "source": [
        "sentiment_counts = tweets.airline_sentiment.value_counts()\n",
        "number_of_tweets = tweets.tweet_id.count()\n",
        "print(sentiment_counts)"
      ],
      "execution_count": 20,
      "outputs": [
        {
          "output_type": "stream",
          "text": [
            "negative    9082\n",
            "neutral     3069\n",
            "positive    2334\n",
            "Name: airline_sentiment, dtype: int64\n"
          ],
          "name": "stdout"
        }
      ]
    },
    {
      "cell_type": "markdown",
      "metadata": {
        "id": "n86XbT2ey211",
        "colab_type": "text"
      },
      "source": [
        "<b> As you can see above, the values for each sentiment (Class) are not equal, hence, the dataset is not balanced. Applying a model to unbalanced dataset results in a biased model toward the Class with most instances.\n",
        "\n",
        "So, We have to balance the dataset, using Re-sampling. We chose Upsampling instead of downsampling because we Don't have a lot of data. </b>"
      ]
    },
    {
      "cell_type": "code",
      "metadata": {
        "id": "oJnMKjamjIf7",
        "colab_type": "code",
        "outputId": "936e87b4-9eaf-42d2-958a-9e2ac5c5d707",
        "colab": {
          "base_uri": "https://localhost:8080/",
          "height": 86
        }
      },
      "source": [
        "\n",
        "from sklearn.utils import resample\n",
        "# Separate majority and minority classes\n",
        "majority_class = tweets.loc[tweets.airline_sentiment==\"negative\"]\n",
        "minority1_class = tweets.loc[(tweets.airline_sentiment==\"neutral\")]\n",
        "minority2_class = tweets.loc[(tweets.airline_sentiment==\"positive\")] \n",
        "\n",
        "# Upsample minority class\n",
        "minority_upsampled1 = resample(minority1_class, \n",
        "                                 replace=True,     # sample with replacement\n",
        "                                 n_samples=9082) # majority instances\n",
        "# Upsample minority class\n",
        "minority_upsampled2 = resample(minority2_class, \n",
        "                                 replace=True,     # sample with replacement\n",
        "                                 n_samples=9082) # majority instances\n",
        " \n",
        "# Combine majority class with upsampled minority classes\n",
        "upsampled = pd.concat([majority_class, minority_upsampled1, minority_upsampled2])\n",
        " \n",
        "# Display new class counts\n",
        "upsampled.airline_sentiment.value_counts()"
      ],
      "execution_count": 21,
      "outputs": [
        {
          "output_type": "execute_result",
          "data": {
            "text/plain": [
              "negative    9082\n",
              "neutral     9082\n",
              "positive    9082\n",
              "Name: airline_sentiment, dtype: int64"
            ]
          },
          "metadata": {
            "tags": []
          },
          "execution_count": 21
        }
      ]
    },
    {
      "cell_type": "markdown",
      "metadata": {
        "id": "r4vlPmS0zRpd",
        "colab_type": "text"
      },
      "source": [
        "<b> Here comes the part where we need to prepare the data to be ready for the training.</b>\n",
        "\n",
        "We need to download some plugins from the Natural language ToolKit to help us clean the data"
      ]
    },
    {
      "cell_type": "code",
      "metadata": {
        "id": "H7ia0YDSkaXd",
        "colab_type": "code",
        "outputId": "13e75212-c20b-4f03-db5f-ca656cbf6d33",
        "colab": {
          "base_uri": "https://localhost:8080/",
          "height": 139
        }
      },
      "source": [
        "import nltk\n",
        "\n",
        "nltk.download('punkt')\n",
        "nltk.download('wordnet')\n",
        "nltk.download('stopwords')"
      ],
      "execution_count": 22,
      "outputs": [
        {
          "output_type": "stream",
          "text": [
            "[nltk_data] Downloading package punkt to /root/nltk_data...\n",
            "[nltk_data]   Package punkt is already up-to-date!\n",
            "[nltk_data] Downloading package wordnet to /root/nltk_data...\n",
            "[nltk_data]   Package wordnet is already up-to-date!\n",
            "[nltk_data] Downloading package stopwords to /root/nltk_data...\n",
            "[nltk_data]   Package stopwords is already up-to-date!\n"
          ],
          "name": "stdout"
        },
        {
          "output_type": "execute_result",
          "data": {
            "text/plain": [
              "True"
            ]
          },
          "metadata": {
            "tags": []
          },
          "execution_count": 22
        }
      ]
    },
    {
      "cell_type": "markdown",
      "metadata": {
        "id": "MwfIxFN1zYic",
        "colab_type": "text"
      },
      "source": [
        "<b> We will clean the data as follows:</b>\n",
        "1. Remove all the English stopping words \n",
        "2. Set it all to lowercase \n",
        "3. Remove the name of the Airline at the beginning of the Text\n",
        "4. Remove all the Symbols and keep the letters only \n"
      ]
    },
    {
      "cell_type": "code",
      "metadata": {
        "id": "0m-_uiVWjIou",
        "colab_type": "code",
        "outputId": "f62c1000-8ddd-4d5e-d32b-c11ddcbf37f8",
        "colab": {
          "base_uri": "https://localhost:8080/",
          "height": 206
        }
      },
      "source": [
        "import re, nltk\n",
        "from nltk.stem import WordNetLemmatizer\n",
        "from nltk.corpus import stopwords\n",
        "stop_words = set(stopwords.words('english'))\n",
        "\n",
        "\n",
        "def normalizer(tweet):\n",
        "    only_letters = re.sub(\"[^a-zA-Z]\", \" \",tweet)\n",
        "    return only_letters\n",
        "\n",
        "upsampled['normalized_tweet'] = upsampled['text'].apply(lambda x: ' '.join([word for word in x.split() if word not in (stop_words)]))\n",
        "upsampled['normalized_tweet'] = upsampled['normalized_tweet'].str.lower()\n",
        "upsampled['normalized_tweet'] = upsampled['normalized_tweet'].str.split(n=1).str[1]\n",
        "upsampled['normalized_tweet'] = upsampled['normalized_tweet'].apply(normalizer)\n",
        "upsampled[['text','normalized_tweet']].head()\n"
      ],
      "execution_count": 23,
      "outputs": [
        {
          "output_type": "execute_result",
          "data": {
            "text/html": [
              "<div>\n",
              "<style scoped>\n",
              "    .dataframe tbody tr th:only-of-type {\n",
              "        vertical-align: middle;\n",
              "    }\n",
              "\n",
              "    .dataframe tbody tr th {\n",
              "        vertical-align: top;\n",
              "    }\n",
              "\n",
              "    .dataframe thead th {\n",
              "        text-align: right;\n",
              "    }\n",
              "</style>\n",
              "<table border=\"1\" class=\"dataframe\">\n",
              "  <thead>\n",
              "    <tr style=\"text-align: right;\">\n",
              "      <th></th>\n",
              "      <th>text</th>\n",
              "      <th>normalized_tweet</th>\n",
              "    </tr>\n",
              "  </thead>\n",
              "  <tbody>\n",
              "    <tr>\n",
              "      <th>3</th>\n",
              "      <td>@VirginAmerica it's really aggressive to blast...</td>\n",
              "      <td>really aggressive blast obnoxious  entertainme...</td>\n",
              "    </tr>\n",
              "    <tr>\n",
              "      <th>4</th>\n",
              "      <td>@VirginAmerica and it's a really big bad thing...</td>\n",
              "      <td>really big bad thing</td>\n",
              "    </tr>\n",
              "    <tr>\n",
              "      <th>5</th>\n",
              "      <td>@VirginAmerica seriously would pay $30 a fligh...</td>\n",
              "      <td>seriously would pay     flight seats playing  ...</td>\n",
              "    </tr>\n",
              "    <tr>\n",
              "      <th>15</th>\n",
              "      <td>@VirginAmerica SFO-PDX schedule is still MIA.</td>\n",
              "      <td>sfo pdx schedule still mia</td>\n",
              "    </tr>\n",
              "    <tr>\n",
              "      <th>17</th>\n",
              "      <td>@VirginAmerica  I flew from NYC to SFO last we...</td>\n",
              "      <td>i flew nyc sfo last week fully sit seat due tw...</td>\n",
              "    </tr>\n",
              "  </tbody>\n",
              "</table>\n",
              "</div>"
            ],
            "text/plain": [
              "                                                 text                                   normalized_tweet\n",
              "3   @VirginAmerica it's really aggressive to blast...  really aggressive blast obnoxious  entertainme...\n",
              "4   @VirginAmerica and it's a really big bad thing...                               really big bad thing\n",
              "5   @VirginAmerica seriously would pay $30 a fligh...  seriously would pay     flight seats playing  ...\n",
              "15      @VirginAmerica SFO-PDX schedule is still MIA.                        sfo pdx schedule still mia \n",
              "17  @VirginAmerica  I flew from NYC to SFO last we...  i flew nyc sfo last week fully sit seat due tw..."
            ]
          },
          "metadata": {
            "tags": []
          },
          "execution_count": 23
        }
      ]
    },
    {
      "cell_type": "code",
      "metadata": {
        "id": "dyNx_-86k740",
        "colab_type": "code",
        "colab": {}
      },
      "source": [
        "tweets = upsampled"
      ],
      "execution_count": 0,
      "outputs": []
    },
    {
      "cell_type": "markdown",
      "metadata": {
        "id": "fkuL2xq43drp",
        "colab_type": "text"
      },
      "source": [
        "# 2. ULMFiT\n",
        "\n",
        "<b> Here we came to the part of modeling our dataset </b>\n",
        "\n",
        "First, we split the dataset into training, validation and testing dataset"
      ]
    },
    {
      "cell_type": "code",
      "metadata": {
        "id": "JNwuH8pYz6HU",
        "colab_type": "code",
        "colab": {}
      },
      "source": [
        "from sklearn.model_selection import train_test_split\n",
        "X_train, X_test, y_train, y_test  = train_test_split(tweets['normalized_tweet'], tweets['airline_sentiment'], test_size=0.2, random_state=1)\n",
        "\n",
        "X_train, X_val, y_train, y_val  = train_test_split(X_train, y_train, test_size=0.2, random_state=1)"
      ],
      "execution_count": 0,
      "outputs": []
    },
    {
      "cell_type": "code",
      "metadata": {
        "id": "U25mhtiq0QlW",
        "colab_type": "code",
        "colab": {}
      },
      "source": [
        "import pandas as pd\n",
        "data_train = pd.concat([X_train, y_train], axis=1)\n",
        "data_valid = pd.concat([X_val, y_val], axis=1)\n",
        "data_test = pd.concat([X_test, y_test], axis=1)"
      ],
      "execution_count": 0,
      "outputs": []
    },
    {
      "cell_type": "code",
      "metadata": {
        "id": "T06DsfQAJHJE",
        "colab_type": "code",
        "colab": {}
      },
      "source": [
        "data_train[\"is_valid\"] = False\n",
        "data_valid[\"is_valid\"] = True"
      ],
      "execution_count": 0,
      "outputs": []
    },
    {
      "cell_type": "markdown",
      "metadata": {
        "id": "ABM8VbxJ8IKu",
        "colab_type": "text"
      },
      "source": [
        "Prepare the data to be ready for <b> The  language model </b>  \n",
        "\n",
        "We costruct a data set out of the \"Normalized tweets\" column of training data and validation data, and split it by the the feature \"is_valid\""
      ]
    },
    {
      "cell_type": "code",
      "metadata": {
        "id": "-H7n9Civ-SR9",
        "colab_type": "code",
        "outputId": "079f5781-2067-4083-8dd8-8945aefbdb8e",
        "colab": {
          "base_uri": "https://localhost:8080/",
          "height": 17
        }
      },
      "source": [
        "data_lm = (TextList.from_df(pd.concat([data_train, data_valid]), cols=[\"normalized_tweet\"])\n",
        "           .split_from_df(\"is_valid\")\n",
        "           .label_for_lm()\n",
        "           .databunch())"
      ],
      "execution_count": 63,
      "outputs": [
        {
          "output_type": "display_data",
          "data": {
            "text/html": [
              ""
            ],
            "text/plain": [
              "<IPython.core.display.HTML object>"
            ]
          },
          "metadata": {
            "tags": []
          }
        },
        {
          "output_type": "display_data",
          "data": {
            "text/html": [
              ""
            ],
            "text/plain": [
              "<IPython.core.display.HTML object>"
            ]
          },
          "metadata": {
            "tags": []
          }
        }
      ]
    },
    {
      "cell_type": "markdown",
      "metadata": {
        "id": "iJpxPpOk8ZZ6",
        "colab_type": "text"
      },
      "source": [
        "Then, Intialize an instance of the pre-trained language model with the saved weights"
      ]
    },
    {
      "cell_type": "code",
      "metadata": {
        "id": "FdwAw11C-kwU",
        "colab_type": "code",
        "colab": {}
      },
      "source": [
        "lm = language_model_learner(data_lm, AWD_LSTM, drop_mult=0.3, pretrained=True)"
      ],
      "execution_count": 0,
      "outputs": []
    },
    {
      "cell_type": "markdown",
      "metadata": {
        "id": "Jy2xTDrNWb-c",
        "colab_type": "text"
      },
      "source": [
        "At this moment, We are trying to get the best learning rate that we could apply while fitting the model to the dataset"
      ]
    },
    {
      "cell_type": "code",
      "metadata": {
        "id": "78Pjo_mf_J4W",
        "colab_type": "code",
        "outputId": "b9ac5947-a5d4-409e-8540-150d346e8e94",
        "colab": {
          "base_uri": "https://localhost:8080/",
          "height": 175
        }
      },
      "source": [
        "lm.lr_find()"
      ],
      "execution_count": 65,
      "outputs": [
        {
          "output_type": "display_data",
          "data": {
            "text/html": [
              "\n",
              "    <div>\n",
              "        <style>\n",
              "            /* Turns off some styling */\n",
              "            progress {\n",
              "                /* gets rid of default border in Firefox and Opera. */\n",
              "                border: none;\n",
              "                /* Needs to be in here for Safari polyfill so background images work as expected. */\n",
              "                background-size: auto;\n",
              "            }\n",
              "            .progress-bar-interrupted, .progress-bar-interrupted::-webkit-progress-bar {\n",
              "                background: #F44336;\n",
              "            }\n",
              "        </style>\n",
              "      <progress value='2' class='' max='3', style='width:300px; height:20px; vertical-align: middle;'></progress>\n",
              "      66.67% [2/3 16:34<08:17]\n",
              "    </div>\n",
              "    \n",
              "<table border=\"1\" class=\"dataframe\">\n",
              "  <thead>\n",
              "    <tr style=\"text-align: left;\">\n",
              "      <th>epoch</th>\n",
              "      <th>train_loss</th>\n",
              "      <th>valid_loss</th>\n",
              "      <th>accuracy</th>\n",
              "      <th>time</th>\n",
              "    </tr>\n",
              "  </thead>\n",
              "  <tbody>\n",
              "    <tr>\n",
              "      <td>0</td>\n",
              "      <td>9.062872</td>\n",
              "      <td>#na#</td>\n",
              "      <td>08:16</td>\n",
              "    </tr>\n",
              "    <tr>\n",
              "      <td>1</td>\n",
              "      <td>7.712814</td>\n",
              "      <td>#na#</td>\n",
              "      <td>08:17</td>\n",
              "    </tr>\n",
              "  </tbody>\n",
              "</table><p>\n",
              "\n",
              "    <div>\n",
              "        <style>\n",
              "            /* Turns off some styling */\n",
              "            progress {\n",
              "                /* gets rid of default border in Firefox and Opera. */\n",
              "                border: none;\n",
              "                /* Needs to be in here for Safari polyfill so background images work as expected. */\n",
              "                background-size: auto;\n",
              "            }\n",
              "            .progress-bar-interrupted, .progress-bar-interrupted::-webkit-progress-bar {\n",
              "                background: #F44336;\n",
              "            }\n",
              "        </style>\n",
              "      <progress value='11' class='' max='44', style='width:300px; height:20px; vertical-align: middle;'></progress>\n",
              "      25.00% [11/44 03:07<09:23 10.6756]\n",
              "    </div>\n",
              "    "
            ],
            "text/plain": [
              "<IPython.core.display.HTML object>"
            ]
          },
          "metadata": {
            "tags": []
          }
        },
        {
          "output_type": "stream",
          "text": [
            "LR Finder is complete, type {learner_name}.recorder.plot() to see the graph.\n"
          ],
          "name": "stdout"
        }
      ]
    },
    {
      "cell_type": "markdown",
      "metadata": {
        "id": "hRWrMWsj8ov2",
        "colab_type": "text"
      },
      "source": [
        "<b>Get the minimum learning rate from the plot"
      ]
    },
    {
      "cell_type": "code",
      "metadata": {
        "id": "RatYzwkB_ORM",
        "colab_type": "code",
        "outputId": "e5d3b991-e719-483f-dd05-a37fd984d43c",
        "colab": {
          "base_uri": "https://localhost:8080/",
          "height": 314
        }
      },
      "source": [
        "lm.recorder.plot(suggestion=True)"
      ],
      "execution_count": 66,
      "outputs": [
        {
          "output_type": "stream",
          "text": [
            "Min numerical gradient: 1.91E-02\n",
            "Min loss divided by 10: 1.10E-01\n"
          ],
          "name": "stdout"
        },
        {
          "output_type": "display_data",
          "data": {
            "image/png": "[encoded data removed]",
            "text/plain": [
              "<Figure size 432x288 with 1 Axes>"
            ]
          },
          "metadata": {
            "tags": []
          }
        }
      ]
    },
    {
      "cell_type": "code",
      "metadata": {
        "id": "EW2uvIKTEJiv",
        "colab_type": "code",
        "outputId": "ff28874a-2586-465e-c30f-314db643c2c3",
        "colab": {
          "base_uri": "https://localhost:8080/",
          "height": 34
        }
      },
      "source": [
        "best_lm_lr = lm.recorder.min_grad_lr\n",
        "best_lm_lr\n"
      ],
      "execution_count": 67,
      "outputs": [
        {
          "output_type": "execute_result",
          "data": {
            "text/plain": [
              "0.019054607179632484"
            ]
          },
          "metadata": {
            "tags": []
          },
          "execution_count": 67
        }
      ]
    },
    {
      "cell_type": "markdown",
      "metadata": {
        "id": "NYw6vnWn80s1",
        "colab_type": "text"
      },
      "source": [
        "Start training the pre trained language model on our task-specific training and validation data set using the learning rate we managed to get"
      ]
    },
    {
      "cell_type": "code",
      "metadata": {
        "id": "Sl5wxJhvdlAD",
        "colab_type": "code",
        "outputId": "45e752ce-ed93-4b9b-b889-5e6062f877c5",
        "colab": {
          "base_uri": "https://localhost:8080/",
          "height": 81
        }
      },
      "source": [
        "lm.fit_one_cycle(1, best_lm_lr)"
      ],
      "execution_count": 68,
      "outputs": [
        {
          "output_type": "display_data",
          "data": {
            "text/html": [
              "<table border=\"1\" class=\"dataframe\">\n",
              "  <thead>\n",
              "    <tr style=\"text-align: left;\">\n",
              "      <th>epoch</th>\n",
              "      <th>train_loss</th>\n",
              "      <th>valid_loss</th>\n",
              "      <th>accuracy</th>\n",
              "      <th>time</th>\n",
              "    </tr>\n",
              "  </thead>\n",
              "  <tbody>\n",
              "    <tr>\n",
              "      <td>0</td>\n",
              "      <td>6.432467</td>\n",
              "      <td>5.554783</td>\n",
              "      <td>0.186140</td>\n",
              "      <td>09:03</td>\n",
              "    </tr>\n",
              "  </tbody>\n",
              "</table>"
            ],
            "text/plain": [
              "<IPython.core.display.HTML object>"
            ]
          },
          "metadata": {
            "tags": []
          }
        }
      ]
    },
    {
      "cell_type": "markdown",
      "metadata": {
        "id": "4Zk2XYTS9fBH",
        "colab_type": "text"
      },
      "source": [
        "As you can see above, the training loss is pretty big value and the accuracy is not so good, so we try using a techinque that will enhance the fitting process.\n",
        "\n",
        "We now try the **unfreezing** technique of the layers, and try fitting again"
      ]
    },
    {
      "cell_type": "code",
      "metadata": {
        "id": "22h-pIt-fGg4",
        "colab_type": "code",
        "colab": {}
      },
      "source": [
        "lm.unfreeze()"
      ],
      "execution_count": 0,
      "outputs": []
    },
    {
      "cell_type": "code",
      "metadata": {
        "id": "n4Q9vliqiK5H",
        "colab_type": "code",
        "outputId": "2696459d-a6ca-47c3-de74-ac30de0f0b39",
        "colab": {
          "base_uri": "https://localhost:8080/",
          "height": 81
        }
      },
      "source": [
        "lm.fit_one_cycle(1, best_lm_lr)"
      ],
      "execution_count": 70,
      "outputs": [
        {
          "output_type": "display_data",
          "data": {
            "text/html": [
              "<table border=\"1\" class=\"dataframe\">\n",
              "  <thead>\n",
              "    <tr style=\"text-align: left;\">\n",
              "      <th>epoch</th>\n",
              "      <th>train_loss</th>\n",
              "      <th>valid_loss</th>\n",
              "      <th>accuracy</th>\n",
              "      <th>time</th>\n",
              "    </tr>\n",
              "  </thead>\n",
              "  <tbody>\n",
              "    <tr>\n",
              "      <td>0</td>\n",
              "      <td>5.172385</td>\n",
              "      <td>4.765442</td>\n",
              "      <td>0.262744</td>\n",
              "      <td>10:01</td>\n",
              "    </tr>\n",
              "  </tbody>\n",
              "</table>"
            ],
            "text/plain": [
              "<IPython.core.display.HTML object>"
            ]
          },
          "metadata": {
            "tags": []
          }
        }
      ]
    },
    {
      "cell_type": "markdown",
      "metadata": {
        "id": "E_TQG2wv-ADy",
        "colab_type": "text"
      },
      "source": [
        "We see above that after unfreezing the layers, the training loss decreased and the accuracy increased, which means that the technique made some good enhancement in the results!\n",
        "\n",
        "Now  we save the encoder of the weights we gained to use it with the learner object we will create then."
      ]
    },
    {
      "cell_type": "code",
      "metadata": {
        "id": "LR0aO9eXAkxT",
        "colab_type": "code",
        "colab": {}
      },
      "source": [
        "lm.save_encoder('tweets_learner')\n"
      ],
      "execution_count": 0,
      "outputs": []
    },
    {
      "cell_type": "markdown",
      "metadata": {
        "id": "xYyeT0Yx-Vdg",
        "colab_type": "text"
      },
      "source": [
        "In this part we are going to prepare the data for our classification model, by using some Fast.ai library"
      ]
    },
    {
      "cell_type": "code",
      "metadata": {
        "id": "elsRKn16SsN4",
        "colab_type": "code",
        "outputId": "6eaf485a-ee32-4600-869b-3fd310d8b048",
        "colab": {
          "base_uri": "https://localhost:8080/",
          "height": 17
        }
      },
      "source": [
        "\n",
        "\n",
        "data_clf = (TextList.from_df(pd.concat([data_train, data_valid]), vocab=data_lm.vocab, cols=[\"normalized_tweet\"]).\n",
        "           split_from_df(\"is_valid\").\n",
        "           label_from_df(\"airline_sentiment\").\n",
        "           add_test(data_test[\"normalized_tweet\"]).\n",
        "           databunch()\n",
        "          )"
      ],
      "execution_count": 72,
      "outputs": [
        {
          "output_type": "display_data",
          "data": {
            "text/html": [
              ""
            ],
            "text/plain": [
              "<IPython.core.display.HTML object>"
            ]
          },
          "metadata": {
            "tags": []
          }
        },
        {
          "output_type": "display_data",
          "data": {
            "text/html": [
              ""
            ],
            "text/plain": [
              "<IPython.core.display.HTML object>"
            ]
          },
          "metadata": {
            "tags": []
          }
        },
        {
          "output_type": "display_data",
          "data": {
            "text/html": [
              ""
            ],
            "text/plain": [
              "<IPython.core.display.HTML object>"
            ]
          },
          "metadata": {
            "tags": []
          }
        }
      ]
    },
    {
      "cell_type": "code",
      "metadata": {
        "id": "YkHfkqB3BDuH",
        "colab_type": "code",
        "colab": {}
      },
      "source": [
        "data_clf.save('ulmfit_data_claf_tweets')"
      ],
      "execution_count": 0,
      "outputs": []
    },
    {
      "cell_type": "markdown",
      "metadata": {
        "id": "yYgVenFtYOeR",
        "colab_type": "text"
      },
      "source": [
        "Let’s now use the data_clf object we created earlier to build a **classifier** with our fine-tuned encoder."
      ]
    },
    {
      "cell_type": "code",
      "metadata": {
        "id": "rXlWbgdUBVqk",
        "colab_type": "code",
        "outputId": "1bcad3c7-f060-46e3-c02f-ed9418e9821f",
        "colab": {
          "base_uri": "https://localhost:8080/",
          "height": 1000
        }
      },
      "source": [
        "learn_clas = text_classifier_learner(data_clf, drop_mult=0.3, arch=AWD_LSTM)\n",
        "learn_clas.load_encoder('tweets_learner')"
      ],
      "execution_count": 74,
      "outputs": [
        {
          "output_type": "execute_result",
          "data": {
            "text/plain": [
              "RNNLearner(data=TextClasDataBunch;\n",
              "\n",
              "Train: LabelList (17436 items)\n",
              "x: TextList\n",
              "xxbos xxunk cool,xxbos thnx info,xxbos after today no reason anyone approve merger americanair other airlines reason xxunk losing business u,xxbos get home syracuse after cancelled flightled flights one routing three us sitting charlotte,xxbos xxunk concerns really mean amp how why u keep letting people flights bags larger u state xxunk\n",
              "y: CategoryList\n",
              "positive,positive,negative,negative,negative\n",
              "Path: .;\n",
              "\n",
              "Valid: LabelList (4360 items)\n",
              "x: TextList\n",
              "xxbos your aa staff xxunk allow woman board she departure sign still now boarding,xxbos kudos phone support charlotte gate staff,xxbos hi i travel question could please follow dm you,xxbos way xxunk part it s xxunk proper systems place,xxbos ua just landed\n",
              "y: CategoryList\n",
              "negative,positive,neutral,negative,neutral\n",
              "Path: .;\n",
              "\n",
              "Test: LabelList (5450 items)\n",
              "x: TextList\n",
              "xxbos sitting denver airport waiting plane xxunk for hour half xxunk fuck united fucking xxunk,xxbos ok we probably cancelled flight flights then take refund get home another way wednesday work us,xxbos please provide update ua this flight stranded united information crew plane,xxbos thank what paris could arrange something,xxbos change made hours for something taken seconds online i xxunk loved agent though\n",
              "y: EmptyLabelList\n",
              ",,,,\n",
              "Path: ., model=SequentialRNN(\n",
              "  (0): MultiBatchEncoder(\n",
              "    (module): AWD_LSTM(\n",
              "      (encoder): Embedding(5696, 400, padding_idx=1)\n",
              "      (encoder_dp): EmbeddingDropout(\n",
              "        (emb): Embedding(5696, 400, padding_idx=1)\n",
              "      )\n",
              "      (rnns): ModuleList(\n",
              "        (0): WeightDropout(\n",
              "          (module): LSTM(400, 1152, batch_first=True)\n",
              "        )\n",
              "        (1): WeightDropout(\n",
              "          (module): LSTM(1152, 1152, batch_first=True)\n",
              "        )\n",
              "        (2): WeightDropout(\n",
              "          (module): LSTM(1152, 400, batch_first=True)\n",
              "        )\n",
              "      )\n",
              "      (input_dp): RNNDropout()\n",
              "      (hidden_dps): ModuleList(\n",
              "        (0): RNNDropout()\n",
              "        (1): RNNDropout()\n",
              "        (2): RNNDropout()\n",
              "      )\n",
              "    )\n",
              "  )\n",
              "  (1): PoolingLinearClassifier(\n",
              "    (layers): Sequential(\n",
              "      (0): BatchNorm1d(1200, eps=1e-05, momentum=0.1, affine=True, track_running_stats=True)\n",
              "      (1): Dropout(p=0.12, inplace=False)\n",
              "      (2): Linear(in_features=1200, out_features=50, bias=True)\n",
              "      (3): ReLU(inplace=True)\n",
              "      (4): BatchNorm1d(50, eps=1e-05, momentum=0.1, affine=True, track_running_stats=True)\n",
              "      (5): Dropout(p=0.1, inplace=False)\n",
              "      (6): Linear(in_features=50, out_features=3, bias=True)\n",
              "    )\n",
              "  )\n",
              "), opt_func=functools.partial(<class 'torch.optim.adam.Adam'>, betas=(0.9, 0.99)), loss_func=FlattenedLoss of CrossEntropyLoss(), metrics=[<function accuracy at 0x7fdec084e048>], true_wd=True, bn_wd=True, wd=0.01, train_bn=True, path=PosixPath('.'), model_dir='models', callback_fns=[functools.partial(<class 'fastai.basic_train.Recorder'>, add_time=True, silent=False)], callbacks=[RNNTrainer\n",
              "learn: RNNLearner(data=TextClasDataBunch;\n",
              "\n",
              "Train: LabelList (17436 items)\n",
              "x: TextList\n",
              "xxbos xxunk cool,xxbos thnx info,xxbos after today no reason anyone approve merger americanair other airlines reason xxunk losing business u,xxbos get home syracuse after cancelled flightled flights one routing three us sitting charlotte,xxbos xxunk concerns really mean amp how why u keep letting people flights bags larger u state xxunk\n",
              "y: CategoryList\n",
              "positive,positive,negative,negative,negative\n",
              "Path: .;\n",
              "\n",
              "Valid: LabelList (4360 items)\n",
              "x: TextList\n",
              "xxbos your aa staff xxunk allow woman board she departure sign still now boarding,xxbos kudos phone support charlotte gate staff,xxbos hi i travel question could please follow dm you,xxbos way xxunk part it s xxunk proper systems place,xxbos ua just landed\n",
              "y: CategoryList\n",
              "negative,positive,neutral,negative,neutral\n",
              "Path: .;\n",
              "\n",
              "Test: LabelList (5450 items)\n",
              "x: TextList\n",
              "xxbos sitting denver airport waiting plane xxunk for hour half xxunk fuck united fucking xxunk,xxbos ok we probably cancelled flight flights then take refund get home another way wednesday work us,xxbos please provide update ua this flight stranded united information crew plane,xxbos thank what paris could arrange something,xxbos change made hours for something taken seconds online i xxunk loved agent though\n",
              "y: EmptyLabelList\n",
              ",,,,\n",
              "Path: ., model=SequentialRNN(\n",
              "  (0): MultiBatchEncoder(\n",
              "    (module): AWD_LSTM(\n",
              "      (encoder): Embedding(5696, 400, padding_idx=1)\n",
              "      (encoder_dp): EmbeddingDropout(\n",
              "        (emb): Embedding(5696, 400, padding_idx=1)\n",
              "      )\n",
              "      (rnns): ModuleList(\n",
              "        (0): WeightDropout(\n",
              "          (module): LSTM(400, 1152, batch_first=True)\n",
              "        )\n",
              "        (1): WeightDropout(\n",
              "          (module): LSTM(1152, 1152, batch_first=True)\n",
              "        )\n",
              "        (2): WeightDropout(\n",
              "          (module): LSTM(1152, 400, batch_first=True)\n",
              "        )\n",
              "      )\n",
              "      (input_dp): RNNDropout()\n",
              "      (hidden_dps): ModuleList(\n",
              "        (0): RNNDropout()\n",
              "        (1): RNNDropout()\n",
              "        (2): RNNDropout()\n",
              "      )\n",
              "    )\n",
              "  )\n",
              "  (1): PoolingLinearClassifier(\n",
              "    (layers): Sequential(\n",
              "      (0): BatchNorm1d(1200, eps=1e-05, momentum=0.1, affine=True, track_running_stats=True)\n",
              "      (1): Dropout(p=0.12, inplace=False)\n",
              "      (2): Linear(in_features=1200, out_features=50, bias=True)\n",
              "      (3): ReLU(inplace=True)\n",
              "      (4): BatchNorm1d(50, eps=1e-05, momentum=0.1, affine=True, track_running_stats=True)\n",
              "      (5): Dropout(p=0.1, inplace=False)\n",
              "      (6): Linear(in_features=50, out_features=3, bias=True)\n",
              "    )\n",
              "  )\n",
              "), opt_func=functools.partial(<class 'torch.optim.adam.Adam'>, betas=(0.9, 0.99)), loss_func=FlattenedLoss of CrossEntropyLoss(), metrics=[<function accuracy at 0x7fdec084e048>], true_wd=True, bn_wd=True, wd=0.01, train_bn=True, path=PosixPath('.'), model_dir='models', callback_fns=[functools.partial(<class 'fastai.basic_train.Recorder'>, add_time=True, silent=False)], callbacks=[...], layer_groups=[Sequential(\n",
              "  (0): Embedding(5696, 400, padding_idx=1)\n",
              "  (1): EmbeddingDropout(\n",
              "    (emb): Embedding(5696, 400, padding_idx=1)\n",
              "  )\n",
              "), Sequential(\n",
              "  (0): WeightDropout(\n",
              "    (module): LSTM(400, 1152, batch_first=True)\n",
              "  )\n",
              "  (1): RNNDropout()\n",
              "), Sequential(\n",
              "  (0): WeightDropout(\n",
              "    (module): LSTM(1152, 1152, batch_first=True)\n",
              "  )\n",
              "  (1): RNNDropout()\n",
              "), Sequential(\n",
              "  (0): WeightDropout(\n",
              "    (module): LSTM(1152, 400, batch_first=True)\n",
              "  )\n",
              "  (1): RNNDropout()\n",
              "), Sequential(\n",
              "  (0): PoolingLinearClassifier(\n",
              "    (layers): Sequential(\n",
              "      (0): BatchNorm1d(1200, eps=1e-05, momentum=0.1, affine=True, track_running_stats=True)\n",
              "      (1): Dropout(p=0.12, inplace=False)\n",
              "      (2): Linear(in_features=1200, out_features=50, bias=True)\n",
              "      (3): ReLU(inplace=True)\n",
              "      (4): BatchNorm1d(50, eps=1e-05, momentum=0.1, affine=True, track_running_stats=True)\n",
              "      (5): Dropout(p=0.1, inplace=False)\n",
              "      (6): Linear(in_features=50, out_features=3, bias=True)\n",
              "    )\n",
              "  )\n",
              ")], add_time=True, silent=False)\n",
              "alpha: 2.0\n",
              "beta: 1.0], layer_groups=[Sequential(\n",
              "  (0): Embedding(5696, 400, padding_idx=1)\n",
              "  (1): EmbeddingDropout(\n",
              "    (emb): Embedding(5696, 400, padding_idx=1)\n",
              "  )\n",
              "), Sequential(\n",
              "  (0): WeightDropout(\n",
              "    (module): LSTM(400, 1152, batch_first=True)\n",
              "  )\n",
              "  (1): RNNDropout()\n",
              "), Sequential(\n",
              "  (0): WeightDropout(\n",
              "    (module): LSTM(1152, 1152, batch_first=True)\n",
              "  )\n",
              "  (1): RNNDropout()\n",
              "), Sequential(\n",
              "  (0): WeightDropout(\n",
              "    (module): LSTM(1152, 400, batch_first=True)\n",
              "  )\n",
              "  (1): RNNDropout()\n",
              "), Sequential(\n",
              "  (0): PoolingLinearClassifier(\n",
              "    (layers): Sequential(\n",
              "      (0): BatchNorm1d(1200, eps=1e-05, momentum=0.1, affine=True, track_running_stats=True)\n",
              "      (1): Dropout(p=0.12, inplace=False)\n",
              "      (2): Linear(in_features=1200, out_features=50, bias=True)\n",
              "      (3): ReLU(inplace=True)\n",
              "      (4): BatchNorm1d(50, eps=1e-05, momentum=0.1, affine=True, track_running_stats=True)\n",
              "      (5): Dropout(p=0.1, inplace=False)\n",
              "      (6): Linear(in_features=50, out_features=3, bias=True)\n",
              "    )\n",
              "  )\n",
              ")], add_time=True, silent=False)"
            ]
          },
          "metadata": {
            "tags": []
          },
          "execution_count": 74
        }
      ]
    },
    {
      "cell_type": "markdown",
      "metadata": {
        "id": "rC43pe8FYtuB",
        "colab_type": "text"
      },
      "source": [
        " <b>**The** same way as before, we try to get the best learning rate to train our model on the dataset"
      ]
    },
    {
      "cell_type": "code",
      "metadata": {
        "id": "0cUBhE4tBfkn",
        "colab_type": "code",
        "outputId": "e3323e2e-2ad7-42e7-ccce-a2fb2fe06138",
        "colab": {
          "base_uri": "https://localhost:8080/",
          "height": 113
        }
      },
      "source": [
        "learn_clas.lr_find(start_lr=slice(10e-7, 10e-5), end_lr=slice(0.1, 10))\n"
      ],
      "execution_count": 75,
      "outputs": [
        {
          "output_type": "display_data",
          "data": {
            "text/html": [
              "\n",
              "    <div>\n",
              "        <style>\n",
              "            /* Turns off some styling */\n",
              "            progress {\n",
              "                /* gets rid of default border in Firefox and Opera. */\n",
              "                border: none;\n",
              "                /* Needs to be in here for Safari polyfill so background images work as expected. */\n",
              "                background-size: auto;\n",
              "            }\n",
              "            .progress-bar-interrupted, .progress-bar-interrupted::-webkit-progress-bar {\n",
              "                background: #F44336;\n",
              "            }\n",
              "        </style>\n",
              "      <progress value='0' class='' max='1', style='width:300px; height:20px; vertical-align: middle;'></progress>\n",
              "      0.00% [0/1 00:00<00:00]\n",
              "    </div>\n",
              "    \n",
              "<table border=\"1\" class=\"dataframe\">\n",
              "  <thead>\n",
              "    <tr style=\"text-align: left;\">\n",
              "      <th>epoch</th>\n",
              "      <th>train_loss</th>\n",
              "      <th>valid_loss</th>\n",
              "      <th>accuracy</th>\n",
              "      <th>time</th>\n",
              "    </tr>\n",
              "  </thead>\n",
              "  <tbody>\n",
              "  </tbody>\n",
              "</table><p>\n",
              "\n",
              "    <div>\n",
              "        <style>\n",
              "            /* Turns off some styling */\n",
              "            progress {\n",
              "                /* gets rid of default border in Firefox and Opera. */\n",
              "                border: none;\n",
              "                /* Needs to be in here for Safari polyfill so background images work as expected. */\n",
              "                background-size: auto;\n",
              "            }\n",
              "            .progress-bar-interrupted, .progress-bar-interrupted::-webkit-progress-bar {\n",
              "                background: #F44336;\n",
              "            }\n",
              "        </style>\n",
              "      <progress value='88' class='' max='272', style='width:300px; height:20px; vertical-align: middle;'></progress>\n",
              "      32.35% [88/272 03:12<06:42 2.2942]\n",
              "    </div>\n",
              "    "
            ],
            "text/plain": [
              "<IPython.core.display.HTML object>"
            ]
          },
          "metadata": {
            "tags": []
          }
        },
        {
          "output_type": "stream",
          "text": [
            "LR Finder is complete, type {learner_name}.recorder.plot() to see the graph.\n"
          ],
          "name": "stdout"
        }
      ]
    },
    {
      "cell_type": "code",
      "metadata": {
        "id": "ut9vqy4RBpa7",
        "colab_type": "code",
        "outputId": "ff9e4f03-c865-4897-ea0a-4aa41a8ffeb6",
        "colab": {
          "base_uri": "https://localhost:8080/",
          "height": 314
        }
      },
      "source": [
        "learn_clas.recorder.plot(skip_end=10, suggestion=True)\n"
      ],
      "execution_count": 76,
      "outputs": [
        {
          "output_type": "stream",
          "text": [
            "Min numerical gradient: 3.16E-04\n",
            "Min loss divided by 10: 3.16E-03\n"
          ],
          "name": "stdout"
        },
        {
          "output_type": "display_data",
          "data": {
            "image/png": "[encoded data removed]",
            "text/plain": [
              "<Figure size 432x288 with 1 Axes>"
            ]
          },
          "metadata": {
            "tags": []
          }
        }
      ]
    },
    {
      "cell_type": "code",
      "metadata": {
        "id": "9tV1_HJiCwyv",
        "colab_type": "code",
        "outputId": "4d5edd45-cb05-4019-8c19-c5f27118f3dd",
        "colab": {
          "base_uri": "https://localhost:8080/",
          "height": 34
        }
      },
      "source": [
        "best_clf_lr = learn_clas.recorder.min_grad_lr\n",
        "best_clf_lr"
      ],
      "execution_count": 77,
      "outputs": [
        {
          "output_type": "execute_result",
          "data": {
            "text/plain": [
              "0.000316227766016838"
            ]
          },
          "metadata": {
            "tags": []
          },
          "execution_count": 77
        }
      ]
    },
    {
      "cell_type": "code",
      "metadata": {
        "id": "mbf-ZMI0C-vG",
        "colab_type": "code",
        "outputId": "96d85a64-cd79-4321-f6ea-239dd7692edb",
        "colab": {
          "base_uri": "https://localhost:8080/",
          "height": 81
        }
      },
      "source": [
        "learn_clas.fit_one_cycle(1, best_clf_lr)\n"
      ],
      "execution_count": 78,
      "outputs": [
        {
          "output_type": "display_data",
          "data": {
            "text/html": [
              "<table border=\"1\" class=\"dataframe\">\n",
              "  <thead>\n",
              "    <tr style=\"text-align: left;\">\n",
              "      <th>epoch</th>\n",
              "      <th>train_loss</th>\n",
              "      <th>valid_loss</th>\n",
              "      <th>accuracy</th>\n",
              "      <th>time</th>\n",
              "    </tr>\n",
              "  </thead>\n",
              "  <tbody>\n",
              "    <tr>\n",
              "      <td>0</td>\n",
              "      <td>0.683163</td>\n",
              "      <td>0.713023</td>\n",
              "      <td>0.697477</td>\n",
              "      <td>08:37</td>\n",
              "    </tr>\n",
              "  </tbody>\n",
              "</table>"
            ],
            "text/plain": [
              "<IPython.core.display.HTML object>"
            ]
          },
          "metadata": {
            "tags": []
          }
        }
      ]
    },
    {
      "cell_type": "markdown",
      "metadata": {
        "id": "LATE4uItZKF5",
        "colab_type": "text"
      },
      "source": [
        "Here we are trying to be wise while unfreezing the the layers, we start by unfreezing only part of it, and check the results"
      ]
    },
    {
      "cell_type": "code",
      "metadata": {
        "id": "Hsr4dV6oDK-2",
        "colab_type": "code",
        "colab": {}
      },
      "source": [
        "learn_clas.freeze_to(-2)\n"
      ],
      "execution_count": 0,
      "outputs": []
    },
    {
      "cell_type": "code",
      "metadata": {
        "id": "D4FoUasVFuOj",
        "colab_type": "code",
        "outputId": "da88c384-4999-4da0-a63c-0a5bcff7f809",
        "colab": {
          "base_uri": "https://localhost:8080/",
          "height": 81
        }
      },
      "source": [
        "learn_clas.fit_one_cycle(1, best_clf_lr)\n"
      ],
      "execution_count": 80,
      "outputs": [
        {
          "output_type": "display_data",
          "data": {
            "text/html": [
              "<table border=\"1\" class=\"dataframe\">\n",
              "  <thead>\n",
              "    <tr style=\"text-align: left;\">\n",
              "      <th>epoch</th>\n",
              "      <th>train_loss</th>\n",
              "      <th>valid_loss</th>\n",
              "      <th>accuracy</th>\n",
              "      <th>time</th>\n",
              "    </tr>\n",
              "  </thead>\n",
              "  <tbody>\n",
              "    <tr>\n",
              "      <td>0</td>\n",
              "      <td>0.609941</td>\n",
              "      <td>0.603697</td>\n",
              "      <td>0.755734</td>\n",
              "      <td>09:40</td>\n",
              "    </tr>\n",
              "  </tbody>\n",
              "</table>"
            ],
            "text/plain": [
              "<IPython.core.display.HTML object>"
            ]
          },
          "metadata": {
            "tags": []
          }
        }
      ]
    },
    {
      "cell_type": "markdown",
      "metadata": {
        "id": "iOmzJdoYZYrP",
        "colab_type": "text"
      },
      "source": [
        "Now, We unfreeze the all the layers of the model"
      ]
    },
    {
      "cell_type": "code",
      "metadata": {
        "id": "EicF800EFwt_",
        "colab_type": "code",
        "colab": {}
      },
      "source": [
        "learn_clas.unfreeze()\n"
      ],
      "execution_count": 0,
      "outputs": []
    },
    {
      "cell_type": "code",
      "metadata": {
        "id": "rkOCuOLfIQMF",
        "colab_type": "code",
        "outputId": "bbe88508-4917-4219-ef17-8a9fd00d70cd",
        "colab": {
          "base_uri": "https://localhost:8080/",
          "height": 81
        }
      },
      "source": [
        "learn_clas.fit_one_cycle(1, best_clf_lr)\n"
      ],
      "execution_count": 82,
      "outputs": [
        {
          "output_type": "display_data",
          "data": {
            "text/html": [
              "<table border=\"1\" class=\"dataframe\">\n",
              "  <thead>\n",
              "    <tr style=\"text-align: left;\">\n",
              "      <th>epoch</th>\n",
              "      <th>train_loss</th>\n",
              "      <th>valid_loss</th>\n",
              "      <th>accuracy</th>\n",
              "      <th>time</th>\n",
              "    </tr>\n",
              "  </thead>\n",
              "  <tbody>\n",
              "    <tr>\n",
              "      <td>0</td>\n",
              "      <td>0.526984</td>\n",
              "      <td>0.496025</td>\n",
              "      <td>0.816055</td>\n",
              "      <td>10:17</td>\n",
              "    </tr>\n",
              "  </tbody>\n",
              "</table>"
            ],
            "text/plain": [
              "<IPython.core.display.HTML object>"
            ]
          },
          "metadata": {
            "tags": []
          }
        }
      ]
    },
    {
      "cell_type": "markdown",
      "metadata": {
        "id": "ntytI7COZeGC",
        "colab_type": "text"
      },
      "source": [
        "As you can see above the training loss is getting lower and the accuracy is increasing.\n",
        "\n",
        "So, we decided to increas the number of training epochs and check the results again"
      ]
    },
    {
      "cell_type": "code",
      "metadata": {
        "id": "ptn4O45zISDg",
        "colab_type": "code",
        "outputId": "0a1857c8-6ef3-413e-c26f-fb6e49a4c8a8",
        "colab": {
          "base_uri": "https://localhost:8080/",
          "height": 143
        }
      },
      "source": [
        "learn_clas.fit_one_cycle(3, best_clf_lr)\n"
      ],
      "execution_count": 83,
      "outputs": [
        {
          "output_type": "display_data",
          "data": {
            "text/html": [
              "<table border=\"1\" class=\"dataframe\">\n",
              "  <thead>\n",
              "    <tr style=\"text-align: left;\">\n",
              "      <th>epoch</th>\n",
              "      <th>train_loss</th>\n",
              "      <th>valid_loss</th>\n",
              "      <th>accuracy</th>\n",
              "      <th>time</th>\n",
              "    </tr>\n",
              "  </thead>\n",
              "  <tbody>\n",
              "    <tr>\n",
              "      <td>0</td>\n",
              "      <td>0.422130</td>\n",
              "      <td>0.413977</td>\n",
              "      <td>0.849541</td>\n",
              "      <td>10:29</td>\n",
              "    </tr>\n",
              "    <tr>\n",
              "      <td>1</td>\n",
              "      <td>0.315107</td>\n",
              "      <td>0.337129</td>\n",
              "      <td>0.884862</td>\n",
              "      <td>10:06</td>\n",
              "    </tr>\n",
              "    <tr>\n",
              "      <td>2</td>\n",
              "      <td>0.207419</td>\n",
              "      <td>0.314525</td>\n",
              "      <td>0.892431</td>\n",
              "      <td>11:15</td>\n",
              "    </tr>\n",
              "  </tbody>\n",
              "</table>"
            ],
            "text/plain": [
              "<IPython.core.display.HTML object>"
            ]
          },
          "metadata": {
            "tags": []
          }
        }
      ]
    },
    {
      "cell_type": "markdown",
      "metadata": {
        "id": "EBG37WACZx9j",
        "colab_type": "text"
      },
      "source": [
        "The Results got much much better, this means that the more we increase the epochs the more we are getting better results "
      ]
    },
    {
      "cell_type": "code",
      "metadata": {
        "id": "d7Z00QoPUIm_",
        "colab_type": "code",
        "colab": {}
      },
      "source": [
        " learn_clas.save_encoder('final_tweets_model')\n"
      ],
      "execution_count": 0,
      "outputs": []
    },
    {
      "cell_type": "markdown",
      "metadata": {
        "id": "5H1oLNanZ8b7",
        "colab_type": "text"
      },
      "source": [
        "### <b> Now, Let's proceed with part of testing our model"
      ]
    },
    {
      "cell_type": "code",
      "metadata": {
        "id": "JHLmLjPwK2mF",
        "colab_type": "code",
        "outputId": "97d1f644-3293-47f3-a489-7370eb9be5c0",
        "colab": {
          "base_uri": "https://localhost:8080/",
          "height": 206
        }
      },
      "source": [
        "learn_clas.show_results()\n"
      ],
      "execution_count": 85,
      "outputs": [
        {
          "output_type": "display_data",
          "data": {
            "text/html": [
              "<table border=\"1\" class=\"dataframe\">\n",
              "  <thead>\n",
              "    <tr style=\"text-align: right;\">\n",
              "      <th>text</th>\n",
              "      <th>target</th>\n",
              "      <th>prediction</th>\n",
              "    </tr>\n",
              "  </thead>\n",
              "  <tbody>\n",
              "    <tr>\n",
              "      <td>xxbos xxunk u us airways with yo shitty chicken xxunk xxunk that so xxunk and u xxunk make me wait in a hr layover xxunk u and</td>\n",
              "      <td>negative</td>\n",
              "      <td>negative</td>\n",
              "    </tr>\n",
              "    <tr>\n",
              "      <td>xxbos better travel photos my kindle e book easy tips guide http t co dm j h m http t co xedeckgmw http t co frghglmkqf</td>\n",
              "      <td>neutral</td>\n",
              "      <td>neutral</td>\n",
              "    </tr>\n",
              "    <tr>\n",
              "      <td>xxbos that s cause we re trueblue it s ur love keeps xxunk xxunk https t co xxunk xxunk http t co xxunk t xxunk</td>\n",
              "      <td>neutral</td>\n",
              "      <td>negative</td>\n",
              "    </tr>\n",
              "    <tr>\n",
              "      <td>xxbos e xxrep 4 y cancelled flightlations flight booking problemss reflight booking problemss y all got flight tonight not tomorrow amp fc upgrade thx</td>\n",
              "      <td>positive</td>\n",
              "      <td>positive</td>\n",
              "    </tr>\n",
              "    <tr>\n",
              "      <td>xxbos e xxrep 4 y cancelled flightlations flight booking problemss reflight booking problemss y all got flight tonight not tomorrow amp fc upgrade thx</td>\n",
              "      <td>positive</td>\n",
              "      <td>positive</td>\n",
              "    </tr>\n",
              "  </tbody>\n",
              "</table>"
            ],
            "text/plain": [
              "<IPython.core.display.HTML object>"
            ]
          },
          "metadata": {
            "tags": []
          }
        }
      ]
    },
    {
      "cell_type": "markdown",
      "metadata": {
        "id": "2pcybmNfaJ8z",
        "colab_type": "text"
      },
      "source": [
        "Let's add the testing data into our data_clf object and get the predictions"
      ]
    },
    {
      "cell_type": "code",
      "metadata": {
        "id": "nDrr9vYfSUNB",
        "colab_type": "code",
        "outputId": "ccd56df9-d46c-4b8e-d80f-769128153de5",
        "colab": {
          "base_uri": "https://localhost:8080/",
          "height": 17
        }
      },
      "source": [
        "data_clf.add_test(data_test[\"normalized_tweet\"])\n"
      ],
      "execution_count": 86,
      "outputs": [
        {
          "output_type": "display_data",
          "data": {
            "text/html": [
              ""
            ],
            "text/plain": [
              "<IPython.core.display.HTML object>"
            ]
          },
          "metadata": {
            "tags": []
          }
        }
      ]
    },
    {
      "cell_type": "code",
      "metadata": {
        "id": "dYDUI1FKSy6k",
        "colab_type": "code",
        "outputId": "ceca3cb3-328a-4215-e688-b216a8d848eb",
        "colab": {
          "base_uri": "https://localhost:8080/",
          "height": 17
        }
      },
      "source": [
        "test_preds, _ = learn_clas.get_preds(DatasetType.Test, \n",
        "                                     ordered=True)"
      ],
      "execution_count": 87,
      "outputs": [
        {
          "output_type": "display_data",
          "data": {
            "text/html": [
              ""
            ],
            "text/plain": [
              "<IPython.core.display.HTML object>"
            ]
          },
          "metadata": {
            "tags": []
          }
        }
      ]
    },
    {
      "cell_type": "code",
      "metadata": {
        "id": "FNFOFmQ0S4PD",
        "colab_type": "code",
        "colab": {}
      },
      "source": [
        "test_pred_df = pd.DataFrame(test_preds.data.cpu().numpy(),\n",
        "                            columns=['negative', 'neutral', 'positive'])\n",
        "ulmfit_preds = pd.Series(np.argmax(test_pred_df.values, axis=1),\n",
        "                        name='label').map({0: 'negative', 1: 'neutral', 2: 'positive'})"
      ],
      "execution_count": 0,
      "outputs": []
    },
    {
      "cell_type": "code",
      "metadata": {
        "id": "kSQC2TXvTRjy",
        "colab_type": "code",
        "outputId": "9ef6fc90-2fe1-4d90-8ae1-ef1163e6b2b1",
        "colab": {
          "base_uri": "https://localhost:8080/",
          "height": 225
        }
      },
      "source": [
        "ulmfit_preds\n"
      ],
      "execution_count": 89,
      "outputs": [
        {
          "output_type": "execute_result",
          "data": {
            "text/plain": [
              "0       negative\n",
              "1       negative\n",
              "2       negative\n",
              "3        neutral\n",
              "4       negative\n",
              "          ...   \n",
              "5445     neutral\n",
              "5446    positive\n",
              "5447     neutral\n",
              "5448    negative\n",
              "5449     neutral\n",
              "Name: label, Length: 5450, dtype: object"
            ]
          },
          "metadata": {
            "tags": []
          },
          "execution_count": 89
        }
      ]
    },
    {
      "cell_type": "code",
      "metadata": {
        "colab_type": "code",
        "outputId": "051c58ef-1b4b-4b0e-815c-3db8d1d144e8",
        "id": "luF3P7Dgsnvn",
        "colab": {
          "base_uri": "https://localhost:8080/",
          "height": 424
        }
      },
      "source": [
        "data_test"
      ],
      "execution_count": 90,
      "outputs": [
        {
          "output_type": "execute_result",
          "data": {
            "text/html": [
              "<div>\n",
              "<style scoped>\n",
              "    .dataframe tbody tr th:only-of-type {\n",
              "        vertical-align: middle;\n",
              "    }\n",
              "\n",
              "    .dataframe tbody tr th {\n",
              "        vertical-align: top;\n",
              "    }\n",
              "\n",
              "    .dataframe thead th {\n",
              "        text-align: right;\n",
              "    }\n",
              "</style>\n",
              "<table border=\"1\" class=\"dataframe\">\n",
              "  <thead>\n",
              "    <tr style=\"text-align: right;\">\n",
              "      <th></th>\n",
              "      <th>normalized_tweet</th>\n",
              "      <th>airline_sentiment</th>\n",
              "    </tr>\n",
              "  </thead>\n",
              "  <tbody>\n",
              "    <tr>\n",
              "      <th>2142</th>\n",
              "      <td>sitting denver airport waiting plane refueled ...</td>\n",
              "      <td>negative</td>\n",
              "    </tr>\n",
              "    <tr>\n",
              "      <th>13224</th>\n",
              "      <td>ok  we probably cancelled flight flights then ...</td>\n",
              "      <td>negative</td>\n",
              "    </tr>\n",
              "    <tr>\n",
              "      <th>2849</th>\n",
              "      <td>please provide update ua      this flight stra...</td>\n",
              "      <td>negative</td>\n",
              "    </tr>\n",
              "    <tr>\n",
              "      <th>7894</th>\n",
              "      <td>thank   what paris   could arrange something</td>\n",
              "      <td>neutral</td>\n",
              "    </tr>\n",
              "    <tr>\n",
              "      <th>1041</th>\n",
              "      <td>change made   hours  for something taken secon...</td>\n",
              "      <td>negative</td>\n",
              "    </tr>\n",
              "    <tr>\n",
              "      <th>...</th>\n",
              "      <td>...</td>\n",
              "      <td>...</td>\n",
              "    </tr>\n",
              "    <tr>\n",
              "      <th>478</th>\n",
              "      <td>come abc one network channels have</td>\n",
              "      <td>neutral</td>\n",
              "    </tr>\n",
              "    <tr>\n",
              "      <th>11666</th>\n",
              "      <td>ha  you re fun</td>\n",
              "      <td>positive</td>\n",
              "    </tr>\n",
              "    <tr>\n",
              "      <th>451</th>\n",
              "      <td>i flight artisanal cheese wine pairing</td>\n",
              "      <td>positive</td>\n",
              "    </tr>\n",
              "    <tr>\n",
              "      <th>7534</th>\n",
              "      <td>letting san fran  no media rate  what s deal  ...</td>\n",
              "      <td>negative</td>\n",
              "    </tr>\n",
              "    <tr>\n",
              "      <th>1266</th>\n",
              "      <td>adopting   yr old child ethiopia  flying add g...</td>\n",
              "      <td>neutral</td>\n",
              "    </tr>\n",
              "  </tbody>\n",
              "</table>\n",
              "<p>5450 rows × 2 columns</p>\n",
              "</div>"
            ],
            "text/plain": [
              "                                        normalized_tweet airline_sentiment\n",
              "2142   sitting denver airport waiting plane refueled ...          negative\n",
              "13224  ok  we probably cancelled flight flights then ...          negative\n",
              "2849   please provide update ua      this flight stra...          negative\n",
              "7894      thank   what paris   could arrange something             neutral\n",
              "1041   change made   hours  for something taken secon...          negative\n",
              "...                                                  ...               ...\n",
              "478                  come abc one network channels have            neutral\n",
              "11666                                    ha  you re fun           positive\n",
              "451              i flight artisanal cheese wine pairing           positive\n",
              "7534   letting san fran  no media rate  what s deal  ...          negative\n",
              "1266   adopting   yr old child ethiopia  flying add g...           neutral\n",
              "\n",
              "[5450 rows x 2 columns]"
            ]
          },
          "metadata": {
            "tags": []
          },
          "execution_count": 90
        }
      ]
    },
    {
      "cell_type": "markdown",
      "metadata": {
        "id": "G3Cd0vqOave_",
        "colab_type": "text"
      },
      "source": [
        "####Now we prepare the results in order to be able to visualize it in a **confusion matrix** that will make the results clear\n",
        "\n",
        "---\n",
        "\n"
      ]
    },
    {
      "cell_type": "code",
      "metadata": {
        "id": "s2KqnodTvXKD",
        "colab_type": "code",
        "colab": {}
      },
      "source": [
        "def sentiment2target(sentiment):\n",
        "    return {\n",
        "        'negative': 0,\n",
        "        'neutral': 1,\n",
        "        'positive' : 2\n",
        "    }[sentiment]"
      ],
      "execution_count": 0,
      "outputs": []
    },
    {
      "cell_type": "code",
      "metadata": {
        "id": "IDO1Zk7NvYgX",
        "colab_type": "code",
        "colab": {}
      },
      "source": [
        "predictions = ulmfit_preds.apply(sentiment2target)\n",
        "predictions = predictions.tolist()\n",
        "predictions =  np.array(predictions)\n",
        "\n",
        "targets = data_test.airline_sentiment.apply(sentiment2target)\n",
        "targets = np.array(targets)"
      ],
      "execution_count": 0,
      "outputs": []
    },
    {
      "cell_type": "code",
      "metadata": {
        "colab_type": "code",
        "id": "aYIBTv20suCH",
        "outputId": "dbbd600e-2a65-4d5e-c33d-816fb92bdfb3",
        "colab": {
          "base_uri": "https://localhost:8080/",
          "height": 286
        }
      },
      "source": [
        "Confusion_Matrix =[x[:] for x in [[0] * 3] * 3]\n",
        "\n",
        "for i in range(len(targets)):\n",
        "    temp = int(targets[i])\n",
        "    Confusion_Matrix[temp][predictions[i]] = Confusion_Matrix[temp][predictions[i]]+1\n",
        "\n",
        "final = np.asarray(Confusion_Matrix)\n",
        "\n",
        "plt.imsave(\"Confusion.jpg\",final)\n",
        "\n",
        "\n",
        "\n",
        "plt.imshow(Confusion_Matrix)"
      ],
      "execution_count": 93,
      "outputs": [
        {
          "output_type": "execute_result",
          "data": {
            "text/plain": [
              "<matplotlib.image.AxesImage at 0x7fdeaf115080>"
            ]
          },
          "metadata": {
            "tags": []
          },
          "execution_count": 93
        },
        {
          "output_type": "display_data",
          "data": {
            "image/png": "[encoded data removed]",
            "text/plain": [
              "<Figure size 432x288 with 1 Axes>"
            ]
          },
          "metadata": {
            "tags": []
          }
        }
      ]
    },
    {
      "cell_type": "markdown",
      "metadata": {
        "id": "SbzWzoLhbJnf",
        "colab_type": "text"
      },
      "source": [
        "The confusion matrix above shows:\n",
        "\n",
        "0 --> negative \n",
        "\n",
        "1 --> neutral\n",
        "\n",
        "2 --> positive\n",
        "\n",
        "It clearly shows the confusion among the negative and neutral instances and the perfect prediction of the positive instances"
      ]
    },
    {
      "cell_type": "code",
      "metadata": {
        "colab_type": "code",
        "id": "LMBae0TUsuTJ",
        "outputId": "9899cb75-0fbd-4595-d38c-02019b106c73",
        "colab": {
          "base_uri": "https://localhost:8080/",
          "height": 208
        }
      },
      "source": [
        "print(\"positive : \")\n",
        "print(learn_clas.predict(\"This is a great flight I had so Much fun\"))\n",
        "print(learn_clas.predict(\"Thank you, The trip was great\"))\n",
        "print(\"negative : \")\n",
        "print(learn_clas.predict(\"I missed My flight\"))\n",
        "print(learn_clas.predict(\"this is the worst trip I've ever had in my life\"))\n",
        "print(learn_clas.predict(\"Service was awful. I'll never fly with you again.\"))\n",
        "print(learn_clas.predict(\"I lost my luggage !! Don't fly with this shitty airline again\"))\n",
        "print(\"neutral : \")\n",
        "print(learn_clas.predict(\"I have no opinion, this flight is normal\"))\n",
        "print(learn_clas.predict(\"The flight is not bad and not good, normal\"))\n"
      ],
      "execution_count": 94,
      "outputs": [
        {
          "output_type": "stream",
          "text": [
            "positive : \n",
            "(Category positive, tensor(2), tensor([0.0033, 0.0024, 0.9943]))\n",
            "(Category positive, tensor(2), tensor([8.7934e-04, 1.0757e-03, 9.9804e-01]))\n",
            "negative : \n",
            "(Category negative, tensor(0), tensor([0.9336, 0.0587, 0.0077]))\n",
            "(Category negative, tensor(0), tensor([0.9632, 0.0026, 0.0342]))\n",
            "(Category negative, tensor(0), tensor([0.9753, 0.0052, 0.0195]))\n",
            "(Category negative, tensor(0), tensor([0.9859, 0.0111, 0.0030]))\n",
            "neutral : \n",
            "(Category neutral, tensor(1), tensor([0.3853, 0.5344, 0.0803]))\n",
            "(Category negative, tensor(0), tensor([0.9150, 0.0425, 0.0425]))\n"
          ],
          "name": "stdout"
        }
      ]
    },
    {
      "cell_type": "markdown",
      "metadata": {
        "id": "xA1l8sp0cNFU",
        "colab_type": "text"
      },
      "source": [
        "The above results assures the problem that the confusion matrix showed \n",
        "\n",
        "perfect predicition for the positive instances, while there is a confusion between the negative and neutral instances."
      ]
    },
    {
      "cell_type": "markdown",
      "metadata": {
        "id": "E_OYIdZ1cjdb",
        "colab_type": "text"
      },
      "source": [
        "<b> We can enhance our model by many ways:</b>\n",
        "\n",
        "1. Apply more epochs with an early stop function and get the best fitting.\n",
        "2. try to gather more of the positive and neutral data instance so we have better and balanced representation of the three classes instead of using the Upsampling techinques"
      ]
    },
    {
      "cell_type": "code",
      "metadata": {
        "id": "EhiPjuCWlRPp",
        "colab_type": "code",
        "colab": {}
      },
      "source": [
        " "
      ],
      "execution_count": 0,
      "outputs": []
    }
  ]
}
